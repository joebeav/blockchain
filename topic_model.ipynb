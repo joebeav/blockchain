{
 "cells": [
  {
   "cell_type": "markdown",
   "metadata": {},
   "source": [
    "## LDA\n",
    "### Load data\n",
    "The data is compressed with bzip2. Each line is a bytes instance with a json-like format. We can convert these bytes instances into dictionaries. Each dictionary contains keys like parent_id, comment_id, author_id, etc. For now, we only care about the comments content. "
   ]
  },
  {
   "cell_type": "code",
   "execution_count": 1,
   "metadata": {
    "collapsed": true
   },
   "outputs": [],
   "source": [
    "import bz2\n",
    "import json\n",
    "f_in = bz2.BZ2File(\"data/2017-01.bz2\").readlines() \n",
    "# each bytes string is json like in this dataset\n",
    "documents = [json.loads(line) for line in f_in] # documents is a list of dictionaries"
   ]
  },
  {
   "cell_type": "code",
   "execution_count": 15,
   "metadata": {},
   "outputs": [
    {
     "name": "stdout",
     "output_type": "stream",
     "text": [
      "156850\n"
     ]
    }
   ],
   "source": [
    "print(len(documents))"
   ]
  },
  {
   "cell_type": "code",
   "execution_count": 2,
   "metadata": {},
   "outputs": [
    {
     "name": "stdout",
     "output_type": "stream",
     "text": [
      "{'parent_id': 't1_dbufkak', 'id': 'dbumnvn', 'edited': False, 'created_utc': 1483228806, 'distinguished': None, 'author_flair_css_class': None, 'author_flair_text': None, 'controversiality': 0, 'subreddit_id': 't5_2wlj3', 'retrieved_on': 1485679713, 'link_id': 't3_5l72cl', 'author': 'twigwam', 'score': 1, 'gilded': 0, 'stickied': False, 'body': 'OMGosh im an idiot this week.  Thank you', 'subreddit': 'CryptoCurrency'}\n"
     ]
    }
   ],
   "source": [
    "print(documents[0])\n",
    "corpus = [doc['body'] for doc in documents]"
   ]
  },
  {
   "cell_type": "markdown",
   "metadata": {},
   "source": [
    "### feature extraction\n",
    "using CountVectorizer since LDA uses raw count "
   ]
  },
  {
   "cell_type": "code",
   "execution_count": 3,
   "metadata": {
    "collapsed": true
   },
   "outputs": [],
   "source": [
    "from sklearn.feature_extraction.text import CountVectorizer\n",
    "cvt = CountVectorizer(max_df=0.95, min_df=2, stop_words='english')\n",
    "vecs = cvt.fit_transform(corpus)\n",
    "vecs_feature_names = cvt.get_feature_names()"
   ]
  },
  {
   "cell_type": "markdown",
   "metadata": {},
   "source": [
    "### topic model\n",
    "We need to manually set the number of topics, which is a drawback of LDA."
   ]
  },
  {
   "cell_type": "code",
   "execution_count": 4,
   "metadata": {},
   "outputs": [
    {
     "name": "stdout",
     "output_type": "stream",
     "text": [
      "Training completed in 1056.0191588401794s.\n"
     ]
    }
   ],
   "source": [
    "from sklearn.decomposition import LatentDirichletAllocation as LDA\n",
    "from time import time\n",
    "now = time()\n",
    "n = 10 # number of topics\n",
    "lda = LDA(n_topics=n, max_iter=20, learning_method='online', learning_offset=50.,random_state=123)\n",
    "lda = lda.fit(vecs)\n",
    "print(\"Training completed in {}s.\".format(time() - now))"
   ]
  },
  {
   "cell_type": "markdown",
   "metadata": {},
   "source": [
    "### print topics"
   ]
  },
  {
   "cell_type": "code",
   "execution_count": 5,
   "metadata": {
    "collapsed": true
   },
   "outputs": [],
   "source": [
    "def top_k_words(model, names, k):\n",
    "    for idx, features in enumerate(model.components_):\n",
    "        print (\"Topic {}: \".format(idx) + \" \".join([names[int(i)] for i in (-features).argsort()[:k]]))"
   ]
  },
  {
   "cell_type": "code",
   "execution_count": 6,
   "metadata": {},
   "outputs": [
    {
     "name": "stdout",
     "output_type": "stream",
     "text": [
      "Topic 0: 10 amp 000 wait hours fuck message minutes 20 futures left double order kraken banned\n",
      "Topic 1: bitcoin use gt node work used blockchain like need address problem does people using way\n",
      "Topic 2: deleted coinbase account bank satoshi cash today lol card job accounts video deposit fud customer\n",
      "Topic 3: change reason gt away sure clear argument know words work economic point team project rules\n",
      "Topic 4: bitcoin just people like don think money time know good buy new want really going\n",
      "Topic 5: com https reddit www http bitcoin comments removed np btc info post gt 2017 github\n",
      "Topic 6: segwit block gt miners bitcoin blocks core transaction fees fork hard transactions bu chain size\n",
      "Topic 7: wallet exchange use chinese volume usd old key yes private using just keys send wallets\n",
      "Topic 8: btc long price trading small short market days term coins try exchanges stop link ok\n",
      "Topic 9: monero thanks currency bitcoin gold community org question nice paper thank million value crypto watch\n"
     ]
    }
   ],
   "source": [
    "top_k_words(lda, vecs_feature_names, 15)"
   ]
  },
  {
   "cell_type": "markdown",
   "metadata": {},
   "source": [
    "### Train the model with 20 topics"
   ]
  },
  {
   "cell_type": "code",
   "execution_count": 7,
   "metadata": {},
   "outputs": [
    {
     "name": "stdout",
     "output_type": "stream",
     "text": [
      "Training completed in 1815.3930730819702s.\n"
     ]
    }
   ],
   "source": [
    "now = time()\n",
    "n = 20\n",
    "lda = LDA(n_topics=n, max_iter=20, learning_method='online', learning_offset=50.,random_state=123)\n",
    "lda = lda.fit(vecs)\n",
    "print(\"Training completed in {}s.\".format(time() - now))"
   ]
  },
  {
   "cell_type": "code",
   "execution_count": 8,
   "metadata": {},
   "outputs": [
    {
     "name": "stdout",
     "output_type": "stream",
     "text": [
      "Topic 0: mining power lol hours comment pool vote difficulty banned job pools probably hash minutes hour\n",
      "Topic 1: people good time like new just bitcoin right did big really gt think thing days\n",
      "Topic 2: wait futures pboc took cny premium yuan picture huobi managed spike till mtgox quarterly gotta\n",
      "Topic 3: stop double greg bullshit gonna dumb referring raise kept adam maxwell explained surely thoughts satoshis\n",
      "Topic 4: possible today edit nice looks argument man channel google page far test unfortunately charts relevant\n",
      "Topic 5: coins probably come satoshi talking working good stuff problems wants privacy future available talk lot\n",
      "Topic 6: bitcoin segwit miners people network don gt fork value blockchain want just hard doesn way\n",
      "Topic 7: transaction core fee wallet transactions use need usd old data using wallets send code software\n",
      "Topic 8: com https reddit www http comments bitcoin amp np org message link en 2017 imgur\n",
      "Topic 9: removed exchanges chinese volume exchange trading interesting store thank happens week order trade fake bitfinex\n",
      "Topic 10: monero wallet private key try keys xmr looking running public chart gui view meant slow\n",
      "Topic 11: node coinbase great bad payment accept run tell actually card op news okcoin 2013 credit\n",
      "Topic 12: price buy bitcoin btc sell market got 10 just day years money year 000 long\n",
      "Topic 13: money used bitcoin use account bank pay work does gt place cash government exchange people\n",
      "Topic 14: block gt blocks size increase chain bu limit yes blocksize address consensus transactions scaling 1mb\n",
      "Topic 15: btc time high fees low tx goes maybe lost selling taking fuck holding fee kraken\n",
      "Topic 16: don know just ve thanks want like say didn read works post sure said info\n",
      "Topic 17: deleted support easy safe shit devs storage created seed io phone cold confirm access ath\n",
      "Topic 18: world point internet watch thread posts project break bug rest state youtube thought cheap seeing\n",
      "Topic 19: think like going way look ll don small just long community know blockstream large away\n"
     ]
    }
   ],
   "source": [
    "top_k_words(lda, vecs_feature_names, 15)"
   ]
  },
  {
   "cell_type": "markdown",
   "metadata": {},
   "source": [
    "### Front words without sorting"
   ]
  },
  {
   "cell_type": "code",
   "execution_count": 14,
   "metadata": {},
   "outputs": [
    {
     "name": "stdout",
     "output_type": "stream",
     "text": [
      "Topic 0: mining power lol hours comment pool vote difficulty banned job pools probably hash minutes hour points left hashrate miner ban\n",
      "Topic 1: people good time like new just bitcoin right did big really gt think thing days make open trying things understand\n",
      "Topic 2: wait futures pboc took cny premium yuan picture huobi managed spike till mtgox quarterly gotta fighting ach scared lending quarterlies\n",
      "Topic 3: stop double greg bullshit gonna dumb referring raise kept adam maxwell explained surely thoughts satoshis lying forgot windows excellent bob\n",
      "Topic 4: possible today edit nice looks argument man channel google page far test unfortunately charts relevant broken awesome house hey luke\n",
      "Topic 5: coins probably come satoshi talking working good stuff problems wants privacy future available talk lot digital waiting sold early currently\n",
      "Topic 6: bitcoin segwit miners people network don gt fork value blockchain want just hard doesn way nodes think need make users\n",
      "Topic 7: transaction core fee wallet transactions use need usd old data using wallets send code software hardware version started addresses app\n",
      "Topic 8: com https reddit www http comments bitcoin amp np org message link en 2017 imgur twitter bot github wiki status\n",
      "Topic 9: removed exchanges chinese volume exchange trading interesting store thank happens week order trade fake bitfinex thats coins im law hear\n",
      "Topic 10: monero wallet private key try keys xmr looking running public chart gui view meant slow forum file bit welcome download\n",
      "Topic 11: node coinbase great bad payment accept run tell actually card op news okcoin 2013 credit website media including yes video\n",
      "Topic 12: price buy bitcoin btc sell market got 10 just day years money year 000 long 100 going worth bitcoins bit\n",
      "Topic 13: money used bitcoin use account bank pay work does gt place cash government exchange people trust like make free company\n",
      "Topic 14: block gt blocks size increase chain bu limit yes blocksize address consensus transactions scaling 1mb rules exactly capacity bigger hardfork\n",
      "Topic 15: btc time high fees low tx goes maybe lost selling taking fuck holding fee kraken traders risk yes leverage doubt\n",
      "Topic 16: don know just ve thanks want like say didn read works post sure said info think person ok really sorry\n",
      "Topic 17: deleted support easy safe shit devs storage created seed io phone cold confirm access ath create backup list server okay\n",
      "Topic 18: world point internet watch thread posts project break bug rest state youtube thought cheap seeing saw topic technology strong wikipedia\n",
      "Topic 19: think like going way look ll don small just long community know blockstream large away people question maybe let best\n"
     ]
    }
   ],
   "source": [
    "def begin_k_words(model, names, k):\n",
    "    for idx, features in enumerate(model.components_):\n",
    "        print (\"Topic {}: \".format(idx) + \" \".join([names[int(i)] for i in (-features).argsort()[:k]]))\n",
    "\n",
    "begin_k_words(lda, vecs_feature_names, 20)"
   ]
  },
  {
   "cell_type": "markdown",
   "metadata": {},
   "source": [
    "## HDP"
   ]
  },
  {
   "cell_type": "markdown",
   "metadata": {},
   "source": [
    "# "
   ]
  }
 ],
 "metadata": {
  "kernelspec": {
   "display_name": "Python 3",
   "language": "python",
   "name": "python3"
  },
  "language_info": {
   "codemirror_mode": {
    "name": "ipython",
    "version": 3
   },
   "file_extension": ".py",
   "mimetype": "text/x-python",
   "name": "python",
   "nbconvert_exporter": "python",
   "pygments_lexer": "ipython3",
   "version": "3.6.0"
  }
 },
 "nbformat": 4,
 "nbformat_minor": 2
}
